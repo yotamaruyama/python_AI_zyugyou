{
 "cells": [
  {
   "cell_type": "code",
   "execution_count": 16,
   "metadata": {},
   "outputs": [],
   "source": [
    "#-*- coding: utf-8 -*-\n",
    "import cv2\n",
    "import math\n",
    "import numpy as np\n",
    "\n",
    "file_src = 'kyuri.png'\n",
    "\n",
    "img_src = cv2.imread(file_src,1)#入力画像の読み込み\n",
    "\n",
    "angle=45.0\n",
    "scale=1.0\n",
    "center=tuple(np.array([img_src.shape[1]*0.5,img_src.shape[0]*0.5]))\n",
    "size=tuple(np.array([img_src.shape[1],img_src.shape[0]]))\n",
    "rot_mat=cv2.getRotationMatrix2D(center,angle,scale)\n",
    "img_dst=cv2.warpAffine(img_src,rot_mat,size,flags=cv2.INTER_CUBIC)\n",
    "cv2.imshow(\"dst Show 45deg Image\", img_dst)#出力画像表示\n",
    "cv2.waitKey(0)\n",
    "for num in range(1,5):\n",
    "    scale=0.7\n",
    "    center=tuple(np.array([img_dst.shape[1]*0.5,img_src.shape[0]*0.5]))\n",
    "    size=tuple(np.array([img_dst.shape[1],img_src.shape[0]]))\n",
    "    rot_mat=cv2.getRotationMatrix2D(center,angle,scale)\n",
    "    img_dst=cv2.warpAffine(img_dst,rot_mat,size,flags=cv2.INTER_CUBIC)\n",
    "    cv2.imshow(\"dst Show 45deg Image\", img_dst)#出力画像表示\n",
    "    cv2.waitKey(0)\n",
    "\n",
    "cv2.destroyAllWindows()"
   ]
  },
  {
   "cell_type": "code",
   "execution_count": null,
   "metadata": {},
   "outputs": [],
   "source": []
  }
 ],
 "metadata": {
  "kernelspec": {
   "display_name": "Python 3",
   "language": "python",
   "name": "python3"
  },
  "language_info": {
   "codemirror_mode": {
    "name": "ipython",
    "version": 3
   },
   "file_extension": ".py",
   "mimetype": "text/x-python",
   "name": "python",
   "nbconvert_exporter": "python",
   "pygments_lexer": "ipython3",
   "version": "3.7.4"
  }
 },
 "nbformat": 4,
 "nbformat_minor": 2
}
