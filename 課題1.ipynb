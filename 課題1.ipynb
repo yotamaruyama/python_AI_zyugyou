{
 "cells": [
  {
   "cell_type": "code",
   "execution_count": 6,
   "metadata": {},
   "outputs": [],
   "source": [
    "#-*- coding: utf-8 -*-\n",
    "import cv2\n",
    "import math\n",
    "import numpy as np\n",
    "\n",
    "file_src = 'jingu_s_noize.png'\n",
    "file_dst = 'dst_png'\n",
    "\n",
    "img_src = cv2.imread(file_src,1)#入力画像の読み込み\n",
    "\n",
    "img_dst = cv2.medianBlur(img_src, 9)\n",
    "#表示\n",
    "cv2.imshow(\"src Show Input Image\", img_src)#入力画像表示\n",
    "cv2.imshow(\"dst Show color Image\", img_dst)#出力画像表示\n",
    "\n",
    "cv2.waitKey(0)\n",
    "cv2.destroyAllWindows()"
   ]
  },
  {
   "cell_type": "code",
   "execution_count": null,
   "metadata": {},
   "outputs": [],
   "source": []
  }
 ],
 "metadata": {
  "kernelspec": {
   "display_name": "Python 3",
   "language": "python",
   "name": "python3"
  },
  "language_info": {
   "codemirror_mode": {
    "name": "ipython",
    "version": 3
   },
   "file_extension": ".py",
   "mimetype": "text/x-python",
   "name": "python",
   "nbconvert_exporter": "python",
   "pygments_lexer": "ipython3",
   "version": "3.7.4"
  }
 },
 "nbformat": 4,
 "nbformat_minor": 2
}
