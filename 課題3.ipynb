{
 "cells": [
  {
   "cell_type": "code",
   "execution_count": 6,
   "metadata": {},
   "outputs": [
    {
     "name": "stdout",
     "output_type": "stream",
     "text": [
      "0.992\n"
     ]
    }
   ],
   "source": [
    "#-*- coding: utf-8 -*-\n",
    "import cv2\n",
    "import math\n",
    "import numpy as np\n",
    "\n",
    "file_src = 'kyuri.png'\n",
    "img_src = cv2.imread(file_src,1)#入力画像の読み込み\n",
    "img_gray =cv2.cvtColor(img_src,cv2.COLOR_BGR2GRAY)\n",
    "\n",
    "thresh = 100;\n",
    "ret,img_dst = cv2.threshold(img_gray,thresh,255,cv2.THRESH_BINARY_INV)\n",
    "\n",
    "x,y,w,h = cv2.boundingRect(img_dst)\n",
    "aspectratio = float(h) / w\n",
    "print(aspectratio)\n",
    "img_dst = cv2.rectangle(img_src,(x,y),(x+w,y+h),128)\n",
    "\n",
    "#表示\n",
    "cv2.imshow(\"src Show Input Image\", img_src)#入力画像表示\n",
    "#cv2.imshow(\"dst Show rectangle Image\", img_dst)#出力画像表示\n",
    "\n",
    "cv2.waitKey(0)\n",
    "cv2.destroyAllWindows()"
   ]
  },
  {
   "cell_type": "code",
   "execution_count": null,
   "metadata": {},
   "outputs": [],
   "source": []
  }
 ],
 "metadata": {
  "kernelspec": {
   "display_name": "Python 3",
   "language": "python",
   "name": "python3"
  },
  "language_info": {
   "codemirror_mode": {
    "name": "ipython",
    "version": 3
   },
   "file_extension": ".py",
   "mimetype": "text/x-python",
   "name": "python",
   "nbconvert_exporter": "python",
   "pygments_lexer": "ipython3",
   "version": "3.7.4"
  }
 },
 "nbformat": 4,
 "nbformat_minor": 2
}
